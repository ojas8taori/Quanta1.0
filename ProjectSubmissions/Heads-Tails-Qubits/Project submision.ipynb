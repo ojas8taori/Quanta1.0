{
 "cells": [
  {
   "cell_type": "code",
   "execution_count": 2,
   "id": "d6b86bc2-939c-4aff-993d-74c2921d191f",
   "metadata": {},
   "outputs": [
    {
     "ename": "ModuleNotFoundError",
     "evalue": "No module named 'qiskit'",
     "output_type": "error",
     "traceback": [
      "\u001b[0;31m---------------------------------------------------------------------------\u001b[0m",
      "\u001b[0;31mModuleNotFoundError\u001b[0m                       Traceback (most recent call last)",
      "Cell \u001b[0;32mIn[2], line 1\u001b[0m\n\u001b[0;32m----> 1\u001b[0m \u001b[38;5;28;01mfrom\u001b[39;00m \u001b[38;5;21;01mqiskit\u001b[39;00m \u001b[38;5;28;01mimport\u001b[39;00m QuantumCircuit, transpile\n\u001b[1;32m      2\u001b[0m \u001b[38;5;28;01mfrom\u001b[39;00m \u001b[38;5;21;01mqiskit_aer\u001b[39;00m \u001b[38;5;28;01mimport\u001b[39;00m Aer \u001b[38;5;66;03m# Import Aer directly from qiskit_aerr  \u001b[39;00m\n\u001b[1;32m      3\u001b[0m \u001b[38;5;28;01mfrom\u001b[39;00m \u001b[38;5;21;01mqiskit\u001b[39;00m\u001b[38;5;21;01m.\u001b[39;00m\u001b[38;5;21;01mvisualization\u001b[39;00m \u001b[38;5;28;01mimport\u001b[39;00m plot_histogram\n",
      "\u001b[0;31mModuleNotFoundError\u001b[0m: No module named 'qiskit'"
     ]
    }
   ],
   "source": [
    "from qiskit import QuantumCircuit, transpile\n",
    "from qiskit_aer import Aer # Import Aer directly from qiskit_aerr  \n",
    "from qiskit.visualization import plot_histogram\n",
    "\n",
    "# Create a Quantum Circuit with 1 qubit and 1 classical bit\n",
    "qc = QuantumCircuit(1, 1)\n",
    "\n",
    "# Apply Hadamard gate to create a 50-50 superposition\n",
    "qc.h(0)\n",
    "\n",
    "# Measure the qubit\n",
    "qc.measure(0, 0)\n",
    "\n",
    "# Use a quantum simulator\n",
    "simulator = Aer.get_backend('qasm_simulator')\n",
    "\n",
    "# Transpile the circuit for the simulator\n",
    "qc_compiled = transpile(qc, simulator)\n",
    "\n",
    "# Run the compiled circuit with only 1 shot (one coin flip)\n",
    "job = simulator.run(qc_compiled, shots=1)\n",
    "\n",
    "# Get the results\n",
    "result = job.result()\n",
    "counts = result.get_counts(qc)\n",
    "\n",
    "# Extract the single outcome from the dictionary\n",
    "coin_flip_result = list(counts.keys())[0]  # '0' or '1'\n",
    "\n",
    "# Print the result\n",
    "print(f\"Quantum Coin Flip Result: {'Heads' if coin_flip_result == '0' else 'Tails'}\")"
   ]
  },
  {
   "cell_type": "code",
   "execution_count": 1,
   "id": "2f46b9a9-1828-471c-bc8d-4385dccce704",
   "metadata": {
    "jupyter": {
     "source_hidden": true
    },
    "scrolled": true
   },
   "outputs": [
    {
     "ename": "ModuleNotFoundError",
     "evalue": "No module named 'qiskit'",
     "output_type": "error",
     "traceback": [
      "\u001b[0;31m---------------------------------------------------------------------------\u001b[0m",
      "\u001b[0;31mModuleNotFoundError\u001b[0m                       Traceback (most recent call last)",
      "Cell \u001b[0;32mIn[1], line 1\u001b[0m\n\u001b[0;32m----> 1\u001b[0m \u001b[38;5;28;01mfrom\u001b[39;00m \u001b[38;5;21;01mqiskit\u001b[39;00m \u001b[38;5;28;01mimport\u001b[39;00m QuantumCircuit, transpile\n\u001b[1;32m      2\u001b[0m \u001b[38;5;28;01mfrom\u001b[39;00m \u001b[38;5;21;01mqiskit_aer\u001b[39;00m \u001b[38;5;28;01mimport\u001b[39;00m Aer \u001b[38;5;66;03m# Import Aer directly from qiskit_aer\u001b[39;00m\n\u001b[1;32m      3\u001b[0m \u001b[38;5;28;01mfrom\u001b[39;00m \u001b[38;5;21;01mqiskit\u001b[39;00m\u001b[38;5;21;01m.\u001b[39;00m\u001b[38;5;21;01mvisualization\u001b[39;00m \u001b[38;5;28;01mimport\u001b[39;00m plot_histogram\n",
      "\u001b[0;31mModuleNotFoundError\u001b[0m: No module named 'qiskit'"
     ]
    }
   ],
   "source": [
    "rom qiskit import QuantumCircuit, transpile\n",
    "from qiskit_aer import Aer # Import Aer directly from qiskit_aer\n",
    "from qiskit.visualization import plot_histogram\n",
    "\n",
    "# Create a Quantum Circuit with 1 qubit and 1 classical bit\n",
    "qc = QuantumCircuit(1, 1)\n",
    "\n",
    "# Apply Hadamard gate to create a 50-50 superposition\n",
    "qc.h(0)\n",
    "\n",
    "# Measure the qubit\n",
    "qc.measure(0, 0)\n",
    "\n",
    "# Use a quantum simulator\n",
    "simulator = Aer.get_backend('qasm_simulator')\n",
    "\n",
    "# Transpile the circuit for the simulator\n",
    "qc_compiled = transpile(qc, simulator)\n",
    "\n",
    "# Run the compiled circuit\n",
    "job = simulator.run(qc_compiled, shots=1)  \n",
    "\n",
    "# Get the results\n",
    "result = job.result()\n",
    "counts = result.get_counts(qc)\n",
    "\n",
    "# Print and plot results\n",
    "print(\"Quantum Coin Flip Result:\", counts)\n",
    "plot_histogram(counts)"
   ]
  },
  {
   "cell_type": "code",
   "execution_count": null,
   "id": "a4d5d171-6539-4e41-8e3e-3f81df7594c1",
   "metadata": {},
   "outputs": [],
   "source": []
  }
 ],
 "metadata": {
  "kernelspec": {
   "display_name": "Python 3 [Default]",
   "language": "python",
   "name": "python3"
  },
  "language_info": {
   "codemirror_mode": {
    "name": "ipython",
    "version": 3
   },
   "file_extension": ".py",
   "mimetype": "text/x-python",
   "name": "python",
   "nbconvert_exporter": "python",
   "pygments_lexer": "ipython3",
   "version": "3.11.9"
  }
 },
 "nbformat": 4,
 "nbformat_minor": 5
}
