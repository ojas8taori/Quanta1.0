{
 "cells": [
  {
   "cell_type": "code",
   "execution_count": 17,
   "id": "20dd743d-17b0-4d01-a7dc-3e9dcbad247a",
   "metadata": {},
   "outputs": [],
   "source": [
    "import numpy as np\n",
    "\n",
    "def initialize_state():\n",
    "    # Create a uniform superposition: 1/√3 for each door.\n",
    "    state = np.array([1/np.sqrt(3)] * 3, dtype=complex)\n",
    "    return state"
   ]
  },
  {
   "cell_type": "code",
   "execution_count": 18,
   "id": "d216aa02-4463-451f-b0e7-20ef7e521a3b",
   "metadata": {},
   "outputs": [],
   "source": [
    "def monty_reveal(state, reveal_door):\n",
    "    \"\"\"\n",
    "    Monty's reveal zeros the amplitude for the revealed door.\n",
    "    The state is then renormalized.\n",
    "    \"\"\"\n",
    "    new_state = state.copy()\n",
    "    new_state[reveal_door] = 0  # Zero out the amplitude for the revealed door\n",
    "    norm = np.linalg.norm(new_state)\n",
    "    if norm > 0:\n",
    "        new_state /= norm  # Renormalize the state\n",
    "    return new_state"
   ]
  },
  {
   "cell_type": "code",
   "execution_count": 19,
   "id": "c5fc4d8b-3c40-41d8-96f8-613b0bdcb48e",
   "metadata": {},
   "outputs": [],
   "source": [
    "def final_choice(player_choice, reveal_door, switch):\n",
    "    \"\"\"\n",
    "    Determine the final door:\n",
    "    - If switch is False, the player keeps the original choice.\n",
    "    - If switch is True, the player picks the remaining door.\n",
    "    \"\"\"\n",
    "    if switch:\n",
    "        # The remaining door is the one not chosen by the player or revealed by Monty.\n",
    "        return [door for door in [0, 1, 2] if door not in [player_choice, reveal_door]][0]\n",
    "    else:\n",
    "        return player_choice"
   ]
  },
  {
   "cell_type": "code",
   "execution_count": 20,
   "id": "bdea4956-1bee-40c9-b509-4b2a8099a64f",
   "metadata": {},
   "outputs": [],
   "source": [
    "def compute_win_probability(state, final_choice_door):\n",
    "    \"\"\"\n",
    "    Calculate the winning probability as the squared amplitude of the final door.\n",
    "    \"\"\"\n",
    "    return np.abs(state[final_choice_door])**2"
   ]
  },
  {
   "cell_type": "code",
   "execution_count": 21,
   "id": "d90a3b8d-9f4a-4648-bb85-8eb5a4a26997",
   "metadata": {},
   "outputs": [],
   "source": [
    "def simulate_round(switch):\n",
    "    \"\"\"\n",
    "    Simulate one round of the quantum Monty Hall game with random choices.\n",
    "    Steps:\n",
    "      1. Randomly select the player's door.\n",
    "      2. Randomly choose a door for Monty to reveal (cannot be the player's door).\n",
    "      3. Initialize the state and apply Monty's reveal.\n",
    "      4. Decide the final door based on the switching strategy.\n",
    "      5. Return the win probability for that round.\n",
    "    \"\"\"\n",
    "    # Randomly choose player's door  0, 1, 2.\n",
    "    # Initialize the quantum state.\n",
    "    state = initialize_state()\n",
    "    \n",
    "    player_choice = np.random.randint(0, 3)\n",
    "    \n",
    "    # Monty randomly chooses one door to reveal from those not picked by the player.\n",
    "    possible_reveals = [door for door in [0, 1, 2] if door != player_choice]\n",
    "    reveal_door = np.random.choice(possible_reveals)\n",
    "    \n",
    "    # Apply Monty's reveal (projection).\n",
    "    state_after_reveal = monty_reveal(state, reveal_door)\n",
    "    \n",
    "    # Determine the final door choice.\n",
    "    final_door = final_choice(player_choice, reveal_door, switch)\n",
    "    \n",
    "    # Calculate and return the win probability.\n",
    "    win_probability = compute_win_probability(state_after_reveal, final_door)\n",
    "    return win_probability"
   ]
  },
  {
   "cell_type": "code",
   "execution_count": 24,
   "id": "05b225b0-cc21-42d8-941b-45b1410f9834",
   "metadata": {},
   "outputs": [
    {
     "name": "stdout",
     "output_type": "stream",
     "text": [
      "Average winning probability when sticking: 0.5000000000000001\n",
      "Average winning probability when switching: 0.5000000000000001\n"
     ]
    }
   ],
   "source": [
    "def monte_carlo_simulation(num_rounds=10000):\n",
    "    \"\"\"\n",
    "    Run multiple rounds to estimate the average winning probabilities\n",
    "    for both strategies: sticking and switching.\n",
    "    \"\"\"\n",
    "    wins_stick = 0\n",
    "    wins_switch = 0\n",
    "\n",
    "    for _ in range(num_rounds):\n",
    "        wins_stick += simulate_round(switch=False)\n",
    "        wins_switch += simulate_round(switch=True)\n",
    "    \n",
    "    avg_win_stick = wins_stick / num_rounds\n",
    "    avg_win_switch = wins_switch / num_rounds\n",
    "    return avg_win_stick, avg_win_switch\n",
    "\n",
    "# Run the simulation and print the results:\n",
    "if __name__ == \"__main__\":\n",
    "    stick_prob, switch_prob = monte_carlo_simulation()\n",
    "    print(\"Average winning probability when sticking:\", stick_prob)\n",
    "    print(\"Average winning probability when switching:\", switch_prob)"
   ]
  },
  {
   "cell_type": "code",
   "execution_count": null,
   "id": "fcef7dcd-cb88-4061-8dd9-47ad71903867",
   "metadata": {},
   "outputs": [],
   "source": []
  },
  {
   "cell_type": "code",
   "execution_count": null,
   "id": "04a0ee53-dd78-4178-b13d-7fb31fe766ba",
   "metadata": {},
   "outputs": [],
   "source": []
  }
 ],
 "metadata": {
  "kernelspec": {
   "display_name": "Python 3 [quanta]",
   "language": "python",
   "name": "python3_quanta_384bc5"
  },
  "language_info": {
   "codemirror_mode": {
    "name": "ipython",
    "version": 3
   },
   "file_extension": ".py",
   "mimetype": "text/x-python",
   "name": "python",
   "nbconvert_exporter": "python",
   "pygments_lexer": "ipython3",
   "version": "3.11.9"
  }
 },
 "nbformat": 4,
 "nbformat_minor": 5
}
